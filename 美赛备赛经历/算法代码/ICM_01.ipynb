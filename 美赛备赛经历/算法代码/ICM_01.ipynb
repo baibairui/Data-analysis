{
 "cells": [
  {
   "cell_type": "code",
   "execution_count": 9,
   "metadata": {},
   "outputs": [
    {
     "data": {
      "text/plain": [
       "array([[1.        , 2.        , 3.        , 5.        ],\n",
       "       [0.5       , 1.        , 0.5       , 2.        ],\n",
       "       [0.33333333, 2.        , 1.        , 3.        ],\n",
       "       [0.2       , 0.5       , 0.33333333, 1.        ]])"
      ]
     },
     "execution_count": 9,
     "metadata": {},
     "output_type": "execute_result"
    }
   ],
   "source": [
    "import numpy as np\n",
    "import matplotlib.pyplot as plt\n",
    "\n",
    "A=np.array([[1,2,3,5],[1/2,1,1/2,2],[1/3,2,1,3],[1/5,1/2,1/3,1]])\n",
    "A\n"
   ]
  },
  {
   "cell_type": "code",
   "execution_count": 10,
   "metadata": {},
   "outputs": [
    {
     "data": {
      "text/plain": [
       "4"
      ]
     },
     "execution_count": 10,
     "metadata": {},
     "output_type": "execute_result"
    }
   ],
   "source": [
    "n=A.shape[1]\n",
    "n"
   ]
  },
  {
   "cell_type": "code",
   "execution_count": 11,
   "metadata": {},
   "outputs": [
    {
     "data": {
      "text/plain": [
       "(4.10737097093776+0j)"
      ]
     },
     "execution_count": 11,
     "metadata": {},
     "output_type": "execute_result"
    }
   ],
   "source": [
    "eig_val,eig_vec=np.linalg.eig(A)\n",
    "Max_eig=max(eig_val)\n",
    "Max_eig"
   ]
  },
  {
   "cell_type": "code",
   "execution_count": 12,
   "metadata": {},
   "outputs": [
    {
     "data": {
      "text/plain": [
       "(0.035790323645919976+0j)"
      ]
     },
     "execution_count": 12,
     "metadata": {},
     "output_type": "execute_result"
    }
   ],
   "source": [
    "#这里的CI是一致性指标，RI是随机一致性指标,用最大的特征值和矩阵的维度来计算，如果C\n",
    "CI=(Max_eig-n)/(n-1)\n",
    "CI"
   ]
  },
  {
   "cell_type": "code",
   "execution_count": 13,
   "metadata": {},
   "outputs": [],
   "source": [
    "#RI是随机一致性指标，RI的值是根据n的值来的，n是矩阵的阶数,RI的值是固定的\n",
    "RI=[0,0.0001,0.58,0.90,1.12,1.24,1.32,1.41,1.45,1.49]"
   ]
  },
  {
   "cell_type": "code",
   "execution_count": 14,
   "metadata": {},
   "outputs": [
    {
     "data": {
      "text/plain": [
       "(0.03976702627324442+0j)"
      ]
     },
     "execution_count": 14,
     "metadata": {},
     "output_type": "execute_result"
    }
   ],
   "source": [
    "#CR是一致性比率，CR=CI/RI,RI是固定的，所以CR的值是随着CI的变化而变化的\n",
    "CR=CI/RI[n-1]\n",
    "CR"
   ]
  },
  {
   "cell_type": "code",
   "execution_count": 15,
   "metadata": {},
   "outputs": [
    {
     "data": {
      "text/plain": [
       "(0.03976702627324442+0j)"
      ]
     },
     "execution_count": 15,
     "metadata": {},
     "output_type": "execute_result"
    }
   ],
   "source": [
    "CI\n",
    "CR"
   ]
  },
  {
   "cell_type": "code",
   "execution_count": 16,
   "metadata": {},
   "outputs": [
    {
     "name": "stdout",
     "output_type": "stream",
     "text": [
      "满足一致性要求\n"
     ]
    }
   ],
   "source": [
    "if CR<0.1:\n",
    "    print('满足一致性要求')\n",
    "else:\n",
    "    print('不满足一致性要求')"
   ]
  },
  {
   "cell_type": "markdown",
   "metadata": {},
   "source": [
    "2.算术平均数法求权重"
   ]
  },
  {
   "cell_type": "code",
   "execution_count": 18,
   "metadata": {},
   "outputs": [
    {
     "data": {
      "text/plain": [
       "array([0.57142857, 0.28571429, 0.14285714])"
      ]
     },
     "execution_count": 18,
     "metadata": {},
     "output_type": "execute_result"
    }
   ],
   "source": [
    "import numpy as np\n",
    "#定义判断矩阵\n",
    "A=np.array([[1,2,4],[1/2,1,2],[1/4,1/2,1]])\n",
    "#计算每一列的和,axis=0表示按列求和,axis=1表示按行求和\n",
    "sum_col=np.sum(A,axis=0)\n",
    "#获取A的行数和列数\n",
    "n=A.shape[0]\n",
    "#归一化\n",
    "Stand_A=A/sum_col\n",
    "#各列相加到同一行\n",
    "ASumr=np.sum(Stand_A,axis=1)\n",
    "#计算权重\n",
    "weights=ASumr/n\n",
    "\n",
    "weights"
   ]
  },
  {
   "cell_type": "markdown",
   "metadata": {},
   "source": [
    "3.几何平均法求权重"
   ]
  },
  {
   "cell_type": "code",
   "execution_count": 20,
   "metadata": {},
   "outputs": [
    {
     "data": {
      "text/plain": [
       "array([0.57142857, 0.28571429, 0.14285714])"
      ]
     },
     "execution_count": 20,
     "metadata": {},
     "output_type": "execute_result"
    }
   ],
   "source": [
    "import numpy as np\n",
    "#定义判断矩阵\n",
    "A=np.array([[1,2,4],[1/2,1,2],[1/4,1/2,1]])\n",
    "\n",
    "#计算判断矩阵的大小\n",
    "n=A.shape[0]\n",
    "\n",
    "#将判断矩阵的每一行的元素相乘得到一个新的列向量\n",
    "col_vet=np.prod(A,axis=1)\n",
    "\n",
    "#将列向量的每个元素开n次方\n",
    "col_vet=col_vet**(1/n)\n",
    "#将得到的列向量归一化\n",
    "vet=col_vet/np.sum(col_vet)\n",
    "\n",
    "vet"
   ]
  },
  {
   "cell_type": "markdown",
   "metadata": {},
   "source": [
    "3.特征值法求权重"
   ]
  },
  {
   "cell_type": "code",
   "execution_count": 21,
   "metadata": {},
   "outputs": [
    {
     "data": {
      "text/plain": [
       "array([0.57142857, 0.28571429, 0.14285714])"
      ]
     },
     "execution_count": 21,
     "metadata": {},
     "output_type": "execute_result"
    }
   ],
   "source": [
    "import numpy as np\n",
    "#定义判断矩阵\n",
    "A=np.array([[1,2,4],[1/2,1,2],[1/4,1/2,1]])\n",
    "#计算判断矩阵的大小\n",
    "n=A.shape[0]  \n",
    "\n",
    "#计算判断矩阵的特征值和特征向量\n",
    "eig_val,eig_vec=np.linalg.eig(A)\n",
    "#找到最大的特征值\n",
    "Max_eig=max(eig_val)\n",
    "\n",
    "#找到最大特征值对应的特征向量\n",
    "Max_eig_vec=eig_vec[:,np.argmax(eig_val)]\n",
    "\n",
    "#对特征向量进行归一化来计算权重\n",
    "weights=Max_eig_vec/np.sum(Max_eig_vec)\n",
    "\n",
    "weights"
   ]
  },
  {
   "cell_type": "markdown",
   "metadata": {},
   "source": [
    "5.计算综合评分"
   ]
  },
  {
   "cell_type": "code",
   "execution_count": 22,
   "metadata": {},
   "outputs": [
    {
     "data": {
      "text/plain": [
       "array([0.90417042, 0.00871178, 0.0871178 ])"
      ]
     },
     "execution_count": 22,
     "metadata": {},
     "output_type": "execute_result"
    }
   ],
   "source": [
    "import numpy as np\n",
    "#定义判断矩阵\n",
    "A=np.array([[1,2,4],[1/2,1,2],[1/4,1/2,1]])\n",
    "#计算判断矩阵的大小\n",
    "n=A.shape[0]\n",
    "\n",
    "#使用特征值法求解权重向量\n",
    "    #计算判断矩阵的特征值和特征向量\n",
    "eig_val,eig_vec=np.linalg.eig(A)\n",
    "    #找到最大的特征值\n",
    "Max_eig=max(eig_val)\n",
    "    #找到最大特征值对应的特征向量\n",
    "Max_eig_vec=eig_vec[:,np.argmax(eig_val)]\n",
    "    #对特征向量进行归一化来计算权重\n",
    "weights=Max_eig_vec/np.sum(Max_eig_vec)\n",
    "\n",
    "#定义因素矩阵\n",
    "B=np.array([[100,200,400],[1,2,3],[10,20,30]])\n",
    "#计算因素矩阵的大小\n",
    "m=B.shape[0]\n",
    "#对因素矩阵的每一列进行归一化\n",
    "Stand_B=B/np.sum(B,axis=0)\n",
    "#将归一化的因素矩阵和权重向量相乘\n",
    "result=np.dot(Stand_B,weights)\n",
    "#得到的结果就是最终的评价得分\n",
    "result"
   ]
  }
 ],
 "metadata": {
  "kernelspec": {
   "display_name": "Python 3",
   "language": "python",
   "name": "python3"
  },
  "language_info": {
   "codemirror_mode": {
    "name": "ipython",
    "version": 3
   },
   "file_extension": ".py",
   "mimetype": "text/x-python",
   "name": "python",
   "nbconvert_exporter": "python",
   "pygments_lexer": "ipython3",
   "version": "3.11.2"
  }
 },
 "nbformat": 4,
 "nbformat_minor": 2
}
