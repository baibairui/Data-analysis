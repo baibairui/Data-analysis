{
 "cells": [
  {
   "cell_type": "markdown",
   "metadata": {},
   "source": [
    "模糊综合评价评估模型"
   ]
  },
  {
   "cell_type": "code",
   "execution_count": 1,
   "metadata": {},
   "outputs": [
    {
     "name": "stdout",
     "output_type": "stream",
     "text": [
      "模糊综合评价结果: [0.27 0.5  0.23]\n",
      "最终评价: 中\n"
     ]
    }
   ],
   "source": [
    "import numpy as np\n",
    "\n",
    "# 示例：评价某对象的三个指标\n",
    "# 假设有三个评价等级：差、中、好\n",
    "\n",
    "# 模糊评价矩阵\n",
    "# 每一行代表一个指标，每一列代表一个评价等级\n",
    "fuzzy_matrix = np.array([\n",
    "    [0.1, 0.6, 0.3],  # 指标1的评价为差、中、好的概率\n",
    "    [0.3, 0.5, 0.2],  # 指标2\n",
    "    [0.4, 0.4, 0.2]   # 指标3\n",
    "])\n",
    "\n",
    "# 权重向量\n",
    "weights = np.array([0.3, 0.4, 0.3])\n",
    "\n",
    "# 模糊综合评价\n",
    "# 使用加权平均的方法\n",
    "result = np.dot(weights, fuzzy_matrix)\n",
    "\n",
    "# 结果解读\n",
    "print(\"模糊综合评价结果:\", result)\n",
    "\n",
    "# 最终评价可以基于结果向量选择概率最高的评价等级\n",
    "final_evaluation = np.argmax(result)\n",
    "evaluation_levels = ['差', '中', '好']\n",
    "print(\"最终评价:\", evaluation_levels[final_evaluation])"
   ]
  }
 ],
 "metadata": {
  "kernelspec": {
   "display_name": "Python 3",
   "language": "python",
   "name": "python3"
  },
  "language_info": {
   "codemirror_mode": {
    "name": "ipython",
    "version": 3
   },
   "file_extension": ".py",
   "mimetype": "text/x-python",
   "name": "python",
   "nbconvert_exporter": "python",
   "pygments_lexer": "ipython3",
   "version": "3.11.2"
  }
 },
 "nbformat": 4,
 "nbformat_minor": 2
}
