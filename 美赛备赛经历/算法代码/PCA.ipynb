{
 "cells": [
  {
   "cell_type": "code",
   "execution_count": 4,
   "metadata": {},
   "outputs": [
    {
     "data": {
      "text/html": [
       "<div>\n",
       "<style scoped>\n",
       "    .dataframe tbody tr th:only-of-type {\n",
       "        vertical-align: middle;\n",
       "    }\n",
       "\n",
       "    .dataframe tbody tr th {\n",
       "        vertical-align: top;\n",
       "    }\n",
       "\n",
       "    .dataframe thead th {\n",
       "        text-align: right;\n",
       "    }\n",
       "</style>\n",
       "<table border=\"1\" class=\"dataframe\">\n",
       "  <thead>\n",
       "    <tr style=\"text-align: right;\">\n",
       "      <th></th>\n",
       "      <th>child_mort</th>\n",
       "      <th>exports</th>\n",
       "      <th>health</th>\n",
       "      <th>imports</th>\n",
       "      <th>income</th>\n",
       "      <th>inflation</th>\n",
       "      <th>life_expec</th>\n",
       "      <th>total_fer</th>\n",
       "      <th>gdpp</th>\n",
       "    </tr>\n",
       "  </thead>\n",
       "  <tbody>\n",
       "    <tr>\n",
       "      <th>0</th>\n",
       "      <td>90.2</td>\n",
       "      <td>10.0</td>\n",
       "      <td>7.58</td>\n",
       "      <td>44.9</td>\n",
       "      <td>1610</td>\n",
       "      <td>9.44</td>\n",
       "      <td>56.2</td>\n",
       "      <td>5.82</td>\n",
       "      <td>553</td>\n",
       "    </tr>\n",
       "    <tr>\n",
       "      <th>1</th>\n",
       "      <td>16.6</td>\n",
       "      <td>28.0</td>\n",
       "      <td>6.55</td>\n",
       "      <td>48.6</td>\n",
       "      <td>9930</td>\n",
       "      <td>4.49</td>\n",
       "      <td>76.3</td>\n",
       "      <td>1.65</td>\n",
       "      <td>4090</td>\n",
       "    </tr>\n",
       "    <tr>\n",
       "      <th>2</th>\n",
       "      <td>27.3</td>\n",
       "      <td>38.4</td>\n",
       "      <td>4.17</td>\n",
       "      <td>31.4</td>\n",
       "      <td>12900</td>\n",
       "      <td>16.10</td>\n",
       "      <td>76.5</td>\n",
       "      <td>2.89</td>\n",
       "      <td>4460</td>\n",
       "    </tr>\n",
       "    <tr>\n",
       "      <th>3</th>\n",
       "      <td>119.0</td>\n",
       "      <td>62.3</td>\n",
       "      <td>2.85</td>\n",
       "      <td>42.9</td>\n",
       "      <td>5900</td>\n",
       "      <td>22.40</td>\n",
       "      <td>60.1</td>\n",
       "      <td>6.16</td>\n",
       "      <td>3530</td>\n",
       "    </tr>\n",
       "    <tr>\n",
       "      <th>4</th>\n",
       "      <td>10.3</td>\n",
       "      <td>45.5</td>\n",
       "      <td>6.03</td>\n",
       "      <td>58.9</td>\n",
       "      <td>19100</td>\n",
       "      <td>1.44</td>\n",
       "      <td>76.8</td>\n",
       "      <td>2.13</td>\n",
       "      <td>12200</td>\n",
       "    </tr>\n",
       "  </tbody>\n",
       "</table>\n",
       "</div>"
      ],
      "text/plain": [
       "   child_mort  exports  health  imports  income  inflation  life_expec  \\\n",
       "0        90.2     10.0    7.58     44.9    1610       9.44        56.2   \n",
       "1        16.6     28.0    6.55     48.6    9930       4.49        76.3   \n",
       "2        27.3     38.4    4.17     31.4   12900      16.10        76.5   \n",
       "3       119.0     62.3    2.85     42.9    5900      22.40        60.1   \n",
       "4        10.3     45.5    6.03     58.9   19100       1.44        76.8   \n",
       "\n",
       "   total_fer   gdpp  \n",
       "0       5.82    553  \n",
       "1       1.65   4090  \n",
       "2       2.89   4460  \n",
       "3       6.16   3530  \n",
       "4       2.13  12200  "
      ]
     },
     "execution_count": 4,
     "metadata": {},
     "output_type": "execute_result"
    }
   ],
   "source": [
    "#使用主成分分析法进行降维，对country-data.csv数据进行降维和主成分分析\n",
    "import pandas as pd\n",
    "import numpy as np\n",
    "#导入scipy中的linalg模块，用于进行线性代数计算\n",
    "from scipy import linalg\n",
    "\n",
    "#读取数据并去除第一行和第一列\n",
    "data = pd.read_csv('country-data.csv',header = 0)#header = 0表示第一行是列名，不是数据\n",
    "data = data.iloc[:,1:]#这里的1:表示从第二列开始读取，因为第一列是国家名称，不需要读取\n",
    "\n",
    "data.head()#查看前五行数据,head()默认显示前五行，可以在括号中指定显示的行数"
   ]
  },
  {
   "cell_type": "code",
   "execution_count": 5,
   "metadata": {},
   "outputs": [
    {
     "data": {
      "text/plain": [
       "(167, 9)"
      ]
     },
     "execution_count": 5,
     "metadata": {},
     "output_type": "execute_result"
    }
   ],
   "source": [
    "#将读取的数据转换为矩阵形式\n",
    "data = np.array(data)#将DataFrame转换为array，或使用to_numpy()方法\n",
    "data.shape#查看数据的维度"
   ]
  },
  {
   "cell_type": "code",
   "execution_count": 24,
   "metadata": {},
   "outputs": [
    {
     "data": {
      "text/plain": [
       "array([ 1.29153238, -1.13827979,  0.27908825, -0.08245496, -0.8082454 ,\n",
       "        0.15733622, -1.61909203,  1.90288227, -0.67917961])"
      ]
     },
     "execution_count": 24,
     "metadata": {},
     "output_type": "execute_result"
    }
   ],
   "source": [
    "#标准化数据\n",
    "    #标准化和归一化的区别：标准化是将数据按比例缩放，使之落入一个小的特定区间，而归一化是将数据按比例缩放，使之落入0-1之间\n",
    "X=(data-np.mean(data,axis=0))/np.std(data,axis=0)\n",
    "#查看标准化后的第一行数据\n",
    "X[0]"
   ]
  },
  {
   "cell_type": "code",
   "execution_count": 25,
   "metadata": {},
   "outputs": [
    {
     "data": {
      "text/plain": [
       "(9, 9)"
      ]
     },
     "execution_count": 25,
     "metadata": {},
     "output_type": "execute_result"
    }
   ],
   "source": [
    "#计算协方差矩阵，这里的X.T表示X的转置，求的是各个特征之间的协方差所以要转置\n",
    "R=np.cov(X.T)\n",
    "R.shape#查看协方差矩阵的维度"
   ]
  },
  {
   "cell_type": "code",
   "execution_count": 26,
   "metadata": {},
   "outputs": [
    {
     "data": {
      "text/plain": [
       "array([0.06727787, 0.08884738, 0.1141221 , 0.224928  , 0.66459866,\n",
       "       1.00077724, 1.1774338 , 1.55566165, 4.16057017])"
      ]
     },
     "execution_count": 26,
     "metadata": {},
     "output_type": "execute_result"
    }
   ],
   "source": [
    "#对协方差矩阵进行特征值分解，得到特征值和特征向量\n",
    "evals,evecs=linalg.eigh(R)#这里使用eigh()函数而不是numpy的eig()函数，因为协方差矩阵是对称矩阵，eigh()函数可以对对称矩阵进行特征值分解并将特征值按照升序排列\n",
    "evals#查看特征值"
   ]
  },
  {
   "cell_type": "code",
   "execution_count": 27,
   "metadata": {},
   "outputs": [
    {
     "data": {
      "text/plain": [
       "array([4.16057017, 1.55566165, 1.1774338 , 1.00077724, 0.66459866,\n",
       "       0.224928  , 0.1141221 , 0.08884738, 0.06727787])"
      ]
     },
     "execution_count": 27,
     "metadata": {},
     "output_type": "execute_result"
    }
   ],
   "source": [
    "#将特征值按照降序排列\n",
    "evals=evals[::-1]#[::-1]表示倒序排列\n",
    "evals"
   ]
  },
  {
   "cell_type": "code",
   "execution_count": 28,
   "metadata": {},
   "outputs": [
    {
     "data": {
      "text/plain": [
       "array([[ 0.41951945, -0.19288394,  0.02954353, -0.37065326,  0.16896968,\n",
       "        -0.20062815, -0.07948854,  0.68274306, -0.3275418 ],\n",
       "       [-0.28389698, -0.61316349, -0.14476069, -0.00309102, -0.05761584,\n",
       "         0.05933283, -0.70730269,  0.01419742,  0.12308207],\n",
       "       [-0.15083782,  0.24308678,  0.59663237, -0.4618975 , -0.51800037,\n",
       "        -0.00727646, -0.24983051, -0.07249683, -0.11308797],\n",
       "       [-0.16148244, -0.67182064,  0.29992674,  0.07190746, -0.25537642,\n",
       "         0.03003154,  0.59218953,  0.02894642, -0.09903717],\n",
       "       [-0.39844111, -0.02253553, -0.3015475 , -0.39215904,  0.2471496 ,\n",
       "        -0.16034699,  0.09556237, -0.35262369, -0.61298247],\n",
       "       [ 0.19317293,  0.00840447, -0.64251951, -0.15044176, -0.7148691 ,\n",
       "        -0.06628537,  0.10463252,  0.01153775,  0.02523614],\n",
       "       [-0.42583938,  0.22270674, -0.11391854,  0.20379723, -0.1082198 ,\n",
       "         0.60112652,  0.01848639,  0.50466425, -0.29403981],\n",
       "       [ 0.40372896, -0.15523311, -0.01954925, -0.37830365,  0.13526221,\n",
       "         0.75068875,  0.02882643, -0.29335267,  0.02633585],\n",
       "       [-0.39264482,  0.0460224 , -0.12297749, -0.53199457,  0.18016662,\n",
       "        -0.01677876,  0.24299776,  0.24969636,  0.62564572]])"
      ]
     },
     "execution_count": 28,
     "metadata": {},
     "output_type": "execute_result"
    }
   ],
   "source": [
    "#将特征向量按照特征值的降序排列\n",
    "evecs=evecs[:,::-1]#这里的[:,::-1]表示对所有行进行倒序排列\n",
    "evecs"
   ]
  },
  {
   "cell_type": "code",
   "execution_count": 29,
   "metadata": {},
   "outputs": [
    {
     "data": {
      "text/plain": [
       "array([0.4595174 , 0.17181626, 0.13004259, 0.11053162, 0.07340211,\n",
       "       0.02484235, 0.0126043 , 0.00981282, 0.00743056])"
      ]
     },
     "execution_count": 29,
     "metadata": {},
     "output_type": "execute_result"
    }
   ],
   "source": [
    "#计算主成分\n",
    "#计算主成分的步骤：1.计算特征值和特征向量；2.将特征值按照降序排列；3.将特征向量按照特征值的降序排列；4.计算主成分\n",
    "#计算各成分的方差贡献率\n",
    "variance_ratio=evals/evals.sum()\n",
    "variance_ratio"
   ]
  },
  {
   "cell_type": "code",
   "execution_count": 30,
   "metadata": {},
   "outputs": [
    {
     "data": {
      "text/plain": [
       "array([0.4595174 , 0.63133365, 0.76137624, 0.87190786, 0.94530998,\n",
       "       0.97015232, 0.98275663, 0.99256944, 1.        ])"
      ]
     },
     "execution_count": 30,
     "metadata": {},
     "output_type": "execute_result"
    }
   ],
   "source": [
    "#累积方差贡献率，查看前n个主成分的方差贡献率，如果方差贡献率达到85%以上，那么就可以使用前n个主成分进行降维\n",
    "cum_variance_ratio=np.cumsum(variance_ratio)#np.cumsum()表示对数组进行累加\n",
    "cum_variance_ratio"
   ]
  },
  {
   "cell_type": "code",
   "execution_count": 34,
   "metadata": {},
   "outputs": [
    {
     "data": {
      "text/plain": [
       "(9, 4)"
      ]
     },
     "execution_count": 34,
     "metadata": {},
     "output_type": "execute_result"
    }
   ],
   "source": [
    "#这里可以看到前四个主成分的方差贡献率达到了85%，所以可以使用前四个主成分进行降维\n",
    "vecs=evecs[:,:4]#取前四个主成分\n",
    "vecs.shape#查看主成分的维度\n",
    "#主成分的维度为4，说明降维后的数据只有四个特征，列向量为四个特征的权重，行向量为每个样本特征的四个特征值"
   ]
  },
  {
   "cell_type": "code",
   "execution_count": 35,
   "metadata": {},
   "outputs": [
    {
     "data": {
      "text/plain": [
       "array([[ 0.41951945, -0.19288394,  0.02954353, -0.37065326],\n",
       "       [-0.28389698, -0.61316349, -0.14476069, -0.00309102],\n",
       "       [-0.15083782,  0.24308678,  0.59663237, -0.4618975 ],\n",
       "       [-0.16148244, -0.67182064,  0.29992674,  0.07190746],\n",
       "       [-0.39844111, -0.02253553, -0.3015475 , -0.39215904],\n",
       "       [ 0.19317293,  0.00840447, -0.64251951, -0.15044176],\n",
       "       [-0.42583938,  0.22270674, -0.11391854,  0.20379723],\n",
       "       [ 0.40372896, -0.15523311, -0.01954925, -0.37830365],\n",
       "       [-0.39264482,  0.0460224 , -0.12297749, -0.53199457]])"
      ]
     },
     "execution_count": 35,
     "metadata": {},
     "output_type": "execute_result"
    }
   ],
   "source": [
    "vecs#查看主成分"
   ]
  },
  {
   "cell_type": "markdown",
   "metadata": {},
   "source": [
    "这里的第一个主成分F1说明child_mort，inflation，total_fer与数据有正相关性\n",
    "并且F1的方差贡献度是最大的，说明F1是最优先的主成分"
   ]
  }
 ],
 "metadata": {
  "kernelspec": {
   "display_name": "Python 3",
   "language": "python",
   "name": "python3"
  },
  "language_info": {
   "codemirror_mode": {
    "name": "ipython",
    "version": 3
   },
   "file_extension": ".py",
   "mimetype": "text/x-python",
   "name": "python",
   "nbconvert_exporter": "python",
   "pygments_lexer": "ipython3",
   "version": "3.11.2"
  }
 },
 "nbformat": 4,
 "nbformat_minor": 2
}
