{
 "cells": [
  {
   "cell_type": "code",
   "execution_count": 5,
   "metadata": {},
   "outputs": [
    {
     "data": {
      "text/html": [
       "<div>\n",
       "<style scoped>\n",
       "    .dataframe tbody tr th:only-of-type {\n",
       "        vertical-align: middle;\n",
       "    }\n",
       "\n",
       "    .dataframe tbody tr th {\n",
       "        vertical-align: top;\n",
       "    }\n",
       "\n",
       "    .dataframe thead th {\n",
       "        text-align: right;\n",
       "    }\n",
       "</style>\n",
       "<table border=\"1\" class=\"dataframe\">\n",
       "  <thead>\n",
       "    <tr style=\"text-align: right;\">\n",
       "      <th></th>\n",
       "      <th>0</th>\n",
       "      <th>1</th>\n",
       "      <th>2</th>\n",
       "    </tr>\n",
       "  </thead>\n",
       "  <tbody>\n",
       "    <tr>\n",
       "      <th>0</th>\n",
       "      <td>1</td>\n",
       "      <td>100</td>\n",
       "      <td>500</td>\n",
       "    </tr>\n",
       "    <tr>\n",
       "      <th>1</th>\n",
       "      <td>2</td>\n",
       "      <td>200</td>\n",
       "      <td>300</td>\n",
       "    </tr>\n",
       "    <tr>\n",
       "      <th>2</th>\n",
       "      <td>3</td>\n",
       "      <td>300</td>\n",
       "      <td>200</td>\n",
       "    </tr>\n",
       "    <tr>\n",
       "      <th>3</th>\n",
       "      <td>4</td>\n",
       "      <td>400</td>\n",
       "      <td>100</td>\n",
       "    </tr>\n",
       "    <tr>\n",
       "      <th>4</th>\n",
       "      <td>5</td>\n",
       "      <td>500</td>\n",
       "      <td>50</td>\n",
       "    </tr>\n",
       "  </tbody>\n",
       "</table>\n",
       "</div>"
      ],
      "text/plain": [
       "   0    1    2\n",
       "0  1  100  500\n",
       "1  2  200  300\n",
       "2  3  300  200\n",
       "3  4  400  100\n",
       "4  5  500   50"
      ]
     },
     "execution_count": 5,
     "metadata": {},
     "output_type": "execute_result"
    }
   ],
   "source": [
    "#使用熵权法进行评估方案\n",
    "import numpy as np\n",
    "import pandas as pd\n",
    "\n",
    "#数据矩阵准备\n",
    "data=[[1,100,500],[2,200,300],[3,300,200],[4,400,100],[5,500,50]]\n",
    "data=np.array(data)\n",
    "data=pd.DataFrame(data)\n",
    "data"
   ]
  },
  {
   "cell_type": "code",
   "execution_count": 6,
   "metadata": {},
   "outputs": [],
   "source": [
    "#数据矩阵正向化\n",
    "#将极小型数据转化为极大型数据\n",
    "def minToMax(maxx,x):\n",
    "    x=list(x)\n",
    "    ans=[]\n",
    "    for i in range(len(x)):\n",
    "        ans.append(maxx-x[i])\n",
    "    return ans\n",
    "\n",
    "#将中间型数据转化为极大型数据\n",
    "def midToMax(bestx,x):\n",
    "    x=list(x)\n",
    "    ans=[]\n",
    "    h=[]\n",
    "    #计算列表中每个元素与最优值的差的绝对值\n",
    "    for i in range (len(x)):\n",
    "        h.append(abs(bestx-x[i]))\n",
    "    M=max(h)#计算最大值,用来归一化\n",
    "    if M==0:\n",
    "        M=1#防止除0错误\n",
    "    #计算每个元素的极大型值\n",
    "    for i in range(len(x)):\n",
    "        ans.append(1-h[i]/M)\n",
    "    return np.array(ans)\n",
    "\n",
    "#将区间型数据转化为极大型数据\n",
    "def intervalToMax(x,lowx,highx):\n",
    "    x=list(x)\n",
    "    ans=[]\n",
    "    for i in range(len(x)):\n",
    "        if x[i]>=lowx and x[i]<=highx:\n",
    "            ans.append(1)\n",
    "        elif x[i]<lowx:\n",
    "            ans.append(1-(lowx-x[i])/(lowx-min(x)))\n",
    "        elif x[i]>highx:\n",
    "            ans.append(1-(x[i]-highx)/max(x)-highx)\n",
    "    return np.array(ans)\n",
    "\n",
    "#对数据矩阵进行标准化\n",
    "def normalize(data):\n",
    "    data=np.array(data)\n",
    "    X=data/np.sqrt(np.sum(data**2,axis=0))\n",
    "    return X\n",
    "\n",
    "#对数据矩阵进行归一化\n",
    "def regularize(data):\n",
    "    data=np.array(data)\n",
    "    m,n = np.shape(data)\n",
    "    for i in range(n):\n",
    "        col_sum=np.sum(data[:,i])\n",
    "        for j in range(m):\n",
    "            data[j,i]=data[j,i]/col_sum\n",
    "    return data"
   ]
  },
  {
   "cell_type": "code",
   "execution_count": 7,
   "metadata": {},
   "outputs": [
    {
     "data": {
      "text/html": [
       "<div>\n",
       "<style scoped>\n",
       "    .dataframe tbody tr th:only-of-type {\n",
       "        vertical-align: middle;\n",
       "    }\n",
       "\n",
       "    .dataframe tbody tr th {\n",
       "        vertical-align: top;\n",
       "    }\n",
       "\n",
       "    .dataframe thead th {\n",
       "        text-align: right;\n",
       "    }\n",
       "</style>\n",
       "<table border=\"1\" class=\"dataframe\">\n",
       "  <thead>\n",
       "    <tr style=\"text-align: right;\">\n",
       "      <th></th>\n",
       "      <th>0</th>\n",
       "      <th>1</th>\n",
       "      <th>2</th>\n",
       "    </tr>\n",
       "  </thead>\n",
       "  <tbody>\n",
       "    <tr>\n",
       "      <th>0</th>\n",
       "      <td>1</td>\n",
       "      <td>0.00</td>\n",
       "      <td>0</td>\n",
       "    </tr>\n",
       "    <tr>\n",
       "      <th>1</th>\n",
       "      <td>2</td>\n",
       "      <td>0.25</td>\n",
       "      <td>200</td>\n",
       "    </tr>\n",
       "    <tr>\n",
       "      <th>2</th>\n",
       "      <td>3</td>\n",
       "      <td>0.50</td>\n",
       "      <td>300</td>\n",
       "    </tr>\n",
       "    <tr>\n",
       "      <th>3</th>\n",
       "      <td>4</td>\n",
       "      <td>0.75</td>\n",
       "      <td>400</td>\n",
       "    </tr>\n",
       "    <tr>\n",
       "      <th>4</th>\n",
       "      <td>5</td>\n",
       "      <td>1.00</td>\n",
       "      <td>450</td>\n",
       "    </tr>\n",
       "  </tbody>\n",
       "</table>\n",
       "</div>"
      ],
      "text/plain": [
       "   0     1    2\n",
       "0  1  0.00    0\n",
       "1  2  0.25  200\n",
       "2  3  0.50  300\n",
       "3  4  0.75  400\n",
       "4  5  1.00  450"
      ]
     },
     "execution_count": 7,
     "metadata": {},
     "output_type": "execute_result"
    }
   ],
   "source": [
    "#对数据矩阵进行正向化\n",
    "#这里假设第一列是极大型指标，第二列是中间型指标，第三列是极小型指标\n",
    "data[1]=midToMax(500,data[1])\n",
    "data[2]=minToMax(500,data[2])\n",
    "data"
   ]
  },
  {
   "cell_type": "code",
   "execution_count": 8,
   "metadata": {},
   "outputs": [
    {
     "data": {
      "text/plain": [
       "array([[0.06666667, 0.        , 0.        ],\n",
       "       [0.13333333, 0.1       , 0.14814815],\n",
       "       [0.2       , 0.2       , 0.22222222],\n",
       "       [0.26666667, 0.3       , 0.2962963 ],\n",
       "       [0.33333333, 0.4       , 0.33333333]])"
      ]
     },
     "execution_count": 8,
     "metadata": {},
     "output_type": "execute_result"
    }
   ],
   "source": [
    "#对数据矩阵进行标准化\n",
    "data=normalize(data)\n",
    "#对数据矩阵进行归一化得到概率矩阵\n",
    "data=regularize(data)\n",
    "data"
   ]
  },
  {
   "cell_type": "code",
   "execution_count": 10,
   "metadata": {},
   "outputs": [],
   "source": [
    "#计算熵值\n",
    "def mylog(x):\n",
    "    n=len(x)#计算向量长度\n",
    "    lnp=np.zeros(n)#创建一个n个元素的0向量\n",
    "    for i in range(n):\n",
    "        if x[i]!=0:\n",
    "            lnp[i]=np.log(x[i])\n",
    "        else:\n",
    "            lnp[i]=0\n",
    "    return lnp"
   ]
  },
  {
   "cell_type": "code",
   "execution_count": 11,
   "metadata": {},
   "outputs": [
    {
     "data": {
      "text/plain": [
       "array([0.92563392, 0.79521814, 0.83492014])"
      ]
     },
     "execution_count": 11,
     "metadata": {},
     "output_type": "execute_result"
    }
   ],
   "source": [
    "#定义一个存储熵值的数组\n",
    "m,n=data.shape\n",
    "E=np.zeros(n)#n表示的是指标的数目\n",
    "for j in range(n):\n",
    "    E[j]=-(1/np.log(m))*np.sum(data[:,j]*mylog(data[:,j]))\n",
    "\n",
    "E\n"
   ]
  },
  {
   "cell_type": "code",
   "execution_count": 12,
   "metadata": {},
   "outputs": [
    {
     "data": {
      "text/plain": [
       "array([0.63782613, 0.68885406, 0.67331981])"
      ]
     },
     "execution_count": 12,
     "metadata": {},
     "output_type": "execute_result"
    }
   ],
   "source": [
    "#计算权值\n",
    "def weight(E):\n",
    "    n=len(E)\n",
    "    w=np.zeros(n)\n",
    "    for j in range(n):\n",
    "        w[j]=1-E[j]/np.sum(E)\n",
    "    return w\n",
    "\n",
    "w=weight(E)\n",
    "w"
   ]
  },
  {
   "cell_type": "code",
   "execution_count": 13,
   "metadata": {},
   "outputs": [
    {
     "data": {
      "text/plain": [
       "array([0.04252174, 0.25367997, 0.41496266, 0.57624535, 0.71259027])"
      ]
     },
     "execution_count": 13,
     "metadata": {},
     "output_type": "execute_result"
    }
   ],
   "source": [
    "#根据权值计算各方案得分\n",
    "def score(data,w):\n",
    "    m,n=data.shape\n",
    "    score=np.zeros(m)\n",
    "    for i in range(m):\n",
    "        score[i]=np.sum(data[i,:]*w)\n",
    "    return score\n",
    "\n",
    "score=score(data,w)\n",
    "score"
   ]
  },
  {
   "cell_type": "markdown",
   "metadata": {},
   "source": [
    "综合下来方案5得分最高，熵权法的优势在于评价指标客观化"
   ]
  }
 ],
 "metadata": {
  "kernelspec": {
   "display_name": "Python 3",
   "language": "python",
   "name": "python3"
  },
  "language_info": {
   "codemirror_mode": {
    "name": "ipython",
    "version": 3
   },
   "file_extension": ".py",
   "mimetype": "text/x-python",
   "name": "python",
   "nbconvert_exporter": "python",
   "pygments_lexer": "ipython3",
   "version": "3.11.2"
  }
 },
 "nbformat": 4,
 "nbformat_minor": 2
}
