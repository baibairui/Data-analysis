{
 "cells": [
  {
   "cell_type": "code",
   "execution_count": 39,
   "metadata": {},
   "outputs": [],
   "source": [
    "#使用topsis进行多属性决策\n",
    "import numpy as np\n",
    "#请输入参评数目，即样本数目，矩阵的行数\n",
    "m=3\n",
    "#请输入指标数目，即矩阵的列数\n",
    "n=4"
   ]
  },
  {
   "cell_type": "code",
   "execution_count": 40,
   "metadata": {},
   "outputs": [
    {
     "name": "stdout",
     "output_type": "stream",
     "text": [
      "1.极大型指标\n",
      "2.极小型指标\n",
      "3.中间型指标\n",
      "4.区间型指标\n"
     ]
    },
    {
     "data": {
      "text/plain": [
       "['1', '2', '3', '4']"
      ]
     },
     "execution_count": 40,
     "metadata": {},
     "output_type": "execute_result"
    }
   ],
   "source": [
    "#输入类型矩阵，该矩阵指示了每个指标的类型\n",
    "print(\"1.极大型指标\")\n",
    "print(\"2.极小型指标\")\n",
    "print(\"3.中间型指标\")\n",
    "print(\"4.区间型指标\")\n",
    "kind=input(\"请输入指标类型：\").split(\" \")#split函数用于分割字符串，返回一个列表\n",
    "kind"
   ]
  },
  {
   "cell_type": "code",
   "execution_count": 41,
   "metadata": {},
   "outputs": [
    {
     "data": {
      "text/plain": [
       "array([[1., 2., 3., 4.],\n",
       "       [2., 3., 4., 5.],\n",
       "       [3., 4., 5., 6.]])"
      ]
     },
     "execution_count": 41,
     "metadata": {},
     "output_type": "execute_result"
    }
   ],
   "source": [
    "#初始化一个m*n的矩阵\n",
    "A=np.zeros((m,n))\n",
    "#输入数据矩阵\n",
    "for i in range(m):\n",
    "    A[i]=input().split(\" \")\n",
    "    A[i]=list(map(float,A[i]))\n",
    "A"
   ]
  },
  {
   "cell_type": "code",
   "execution_count": 42,
   "metadata": {},
   "outputs": [],
   "source": [
    "#将极小型数据转化为极大型数据\n",
    "def minToMax(maxx,x):\n",
    "    x=list(x)\n",
    "    ans=[]\n",
    "    for i in range(len(x)):\n",
    "        ans.append(maxx-x[i])\n",
    "    return ans\n",
    "\n",
    "#将中间型数据转化为极大型数据\n",
    "def midToMax(bestx,x):\n",
    "    x=list(x)\n",
    "    ans=[]\n",
    "    h=[]\n",
    "    #计算列表中每个元素与最优值的差的绝对值\n",
    "    for i in range (len(x)):\n",
    "        h.append(abs(bestx-x[i]))\n",
    "    M=max(h)#计算最大值,用来归一化\n",
    "    if M==0:\n",
    "        M=1#防止除0错误\n",
    "    #计算每个元素的极大型值\n",
    "    for i in range(len(x)):\n",
    "        ans.append(1-h[i]/M)\n",
    "    return np.array(ans)\n",
    "\n",
    "#将区间型数据转化为极大型数据\n",
    "def intervalToMax(x,lowx,highx):\n",
    "    x=list(x)\n",
    "    ans=[]\n",
    "    for i in range(len(x)):\n",
    "        if x[i]>=lowx and x[i]<=highx:\n",
    "            ans.append(1)\n",
    "        elif x[i]<lowx:\n",
    "            ans.append(1-(lowx-x[i])/(lowx-min(x)))\n",
    "        elif x[i]>highx:\n",
    "            ans.append(1-(x[i]-highx)/max(x)-highx)\n",
    "    return np.array(ans)"
   ]
  },
  {
   "cell_type": "code",
   "execution_count": 43,
   "metadata": {},
   "outputs": [
    {
     "name": "stdout",
     "output_type": "stream",
     "text": [
      "请输入中间型指标的最优值：\n"
     ]
    },
    {
     "name": "stdout",
     "output_type": "stream",
     "text": [
      "请输入区间型指标的最小值和最大值：\n"
     ]
    },
    {
     "data": {
      "text/plain": [
       "array([[ 1.        ,  2.        ,  0.66666667, -2.16666667],\n",
       "       [ 2.        ,  1.        ,  0.33333333, -2.33333333],\n",
       "       [ 3.        ,  0.        ,  0.        , -2.5       ]])"
      ]
     },
     "execution_count": 43,
     "metadata": {},
     "output_type": "execute_result"
    }
   ],
   "source": [
    "#统一指标类型\n",
    "for i in range(n):\n",
    "    if kind[i]=='1':\n",
    "        A[:,i]=A[:,i]\n",
    "    elif kind[i]=='2':\n",
    "        A[:,i]=minToMax(max(A[:,i]),A[:,i])\n",
    "    elif kind[i]=='3':\n",
    "        print(\"请输入中间型指标的最优值：\")\n",
    "        bestx=int(input())\n",
    "        A[:,i]=midToMax(bestx,A[:,i])\n",
    "    elif kind[i]=='4':\n",
    "        print(\"请输入区间型指标的最小值和最大值：\")\n",
    "        lowx=int(input())\n",
    "        highx=int(input())\n",
    "        A[:,i]=intervalToMax(A[:,i],lowx,highx)\n",
    "A"
   ]
  },
  {
   "cell_type": "code",
   "execution_count": 44,
   "metadata": {},
   "outputs": [
    {
     "data": {
      "text/plain": [
       "array([[ 0.26726124,  0.89442719,  0.89442719, -0.53520153],\n",
       "       [ 0.53452248,  0.4472136 ,  0.4472136 , -0.57637088],\n",
       "       [ 0.80178373,  0.        ,  0.        , -0.61754023]])"
      ]
     },
     "execution_count": 44,
     "metadata": {},
     "output_type": "execute_result"
    }
   ],
   "source": [
    "#对数据矩阵进行按列归一化\n",
    "for i in range(n):\n",
    "    A[:,i]=A[:,i]/np.sqrt(sum(A[:,i]**2))\n",
    "#打印归一化后的数据矩阵\n",
    "A"
   ]
  },
  {
   "cell_type": "code",
   "execution_count": 47,
   "metadata": {},
   "outputs": [
    {
     "data": {
      "text/plain": [
       "[1.5209140936770544, 0.8525787961099317, 0.18424349854280941]"
      ]
     },
     "execution_count": 47,
     "metadata": {},
     "output_type": "execute_result"
    }
   ],
   "source": [
    "#计算最小距离\n",
    "x_max=np.max(A,axis=0) #求每一列的最大值\n",
    "x_min=np.min(A,axis=0) #求每一列的最小值\n",
    "#计算最优解和最劣解\n",
    "d_z=np.sqrt(np.sum(A-np.tile(x_max,(m,1)),axis=1)**2) #计算最优解\n"
   ]
  }
 ],
 "metadata": {
  "kernelspec": {
   "display_name": "Python 3",
   "language": "python",
   "name": "python3"
  },
  "language_info": {
   "codemirror_mode": {
    "name": "ipython",
    "version": 3
   },
   "file_extension": ".py",
   "mimetype": "text/x-python",
   "name": "python",
   "nbconvert_exporter": "python",
   "pygments_lexer": "ipython3",
   "version": "3.11.2"
  }
 },
 "nbformat": 4,
 "nbformat_minor": 2
}
